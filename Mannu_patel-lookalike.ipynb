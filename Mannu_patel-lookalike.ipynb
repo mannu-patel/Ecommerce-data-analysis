{
 "cells": [
  {
   "cell_type": "code",
   "execution_count": 4,
   "id": "068def55",
   "metadata": {},
   "outputs": [],
   "source": [
    "import pandas as pd\n",
    "customers = pd.read_csv('Customers.csv')\n",
    "products = pd.read_csv('Products.csv')\n",
    "transactions = pd.read_csv('Transactions.csv')"
   ]
  },
  {
   "cell_type": "code",
   "execution_count": 6,
   "id": "bb2c5235",
   "metadata": {},
   "outputs": [],
   "source": [
    "data = transactions.merge(customers, on='CustomerID').merge(products, on='ProductID')\n"
   ]
  },
  {
   "cell_type": "code",
   "execution_count": 7,
   "id": "6353e570",
   "metadata": {},
   "outputs": [
    {
     "name": "stdout",
     "output_type": "stream",
     "text": [
      "  TransactionID CustomerID ProductID      TransactionDate  Quantity  \\\n",
      "0        T00001      C0199      P067  2024-08-25 12:38:23         1   \n",
      "1        T00112      C0146      P067  2024-05-27 22:23:54         1   \n",
      "2        T00166      C0127      P067  2024-04-25 07:38:55         1   \n",
      "3        T00272      C0087      P067  2024-03-26 22:55:37         2   \n",
      "4        T00363      C0070      P067  2024-03-21 15:10:10         3   \n",
      "\n",
      "   TotalValue  Price_x     CustomerName         Region  SignupDate  \\\n",
      "0      300.68   300.68   Andrea Jenkins         Europe  2022-12-03   \n",
      "1      300.68   300.68  Brittany Harvey           Asia  2024-09-04   \n",
      "2      300.68   300.68  Kathryn Stevens         Europe  2024-04-04   \n",
      "3      601.36   300.68  Travis Campbell  South America  2024-04-11   \n",
      "4      902.04   300.68    Timothy Perez         Europe  2022-03-15   \n",
      "\n",
      "                       ProductName     Category  Price_y  \n",
      "0  ComfortLiving Bluetooth Speaker  Electronics   300.68  \n",
      "1  ComfortLiving Bluetooth Speaker  Electronics   300.68  \n",
      "2  ComfortLiving Bluetooth Speaker  Electronics   300.68  \n",
      "3  ComfortLiving Bluetooth Speaker  Electronics   300.68  \n",
      "4  ComfortLiving Bluetooth Speaker  Electronics   300.68  \n"
     ]
    }
   ],
   "source": [
    "print(data.head())"
   ]
  },
  {
   "cell_type": "code",
   "execution_count": 8,
   "id": "b8502733",
   "metadata": {},
   "outputs": [
    {
     "name": "stdout",
     "output_type": "stream",
     "text": [
      "  CustomerID                                        ProductName  TotalValue  \\\n",
      "0      C0001  HomeSense Wall Art TechPro Headphones ActiveWe...     3354.52   \n",
      "1      C0002  BookWorld Cookware Set BookWorld Rug ComfortLi...     1862.74   \n",
      "2      C0003  ActiveWear T-Shirt ActiveWear Rug ActiveWear C...     2725.38   \n",
      "3      C0004  BookWorld Bluetooth Speaker TechPro Rug TechPr...     5354.88   \n",
      "4      C0005  TechPro Smartwatch ActiveWear Cookware Set Com...     2034.24   \n",
      "\n",
      "         CustomerName         Region  SignupDate  \n",
      "0    Lawrence Carroll  South America  2022-07-10  \n",
      "1      Elizabeth Lutz           Asia  2022-02-13  \n",
      "2      Michael Rivera  South America  2024-03-07  \n",
      "3  Kathleen Rodriguez  South America  2022-10-09  \n",
      "4         Laura Weber           Asia  2022-08-15  \n"
     ]
    }
   ],
   "source": [
    "customer_profiles = data.groupby('CustomerID').agg({\n",
    "    'ProductName': lambda x: ' '.join(x),\n",
    "    'TotalValue': 'sum'\n",
    "}).reset_index()\n",
    "\n",
    "customer_profiles = customer_profiles.merge(customers, on='CustomerID')\n",
    "\n",
    "print(customer_profiles.head())\n"
   ]
  },
  {
   "cell_type": "code",
   "execution_count": 9,
   "id": "15938b8c",
   "metadata": {},
   "outputs": [
    {
     "name": "stdout",
     "output_type": "stream",
     "text": [
      "Index(['CustomerID', 'ProductName', 'TotalValue', 'CustomerName', 'Region',\n",
      "       'SignupDate'],\n",
      "      dtype='object')\n"
     ]
    }
   ],
   "source": [
    "print(customer_profiles.columns)\n"
   ]
  },
  {
   "cell_type": "code",
   "execution_count": 10,
   "id": "724e288a",
   "metadata": {},
   "outputs": [
    {
     "name": "stdout",
     "output_type": "stream",
     "text": [
      "[[1.         0.05039581 0.20372759 0.35351253 0.42482621]\n",
      " [0.05039581 1.         0.4355352  0.50105143 0.50000067]\n",
      " [0.20372759 0.4355352  1.         0.445044   0.60062276]\n",
      " [0.35351253 0.50105143 0.445044   1.         0.48920844]\n",
      " [0.42482621 0.50000067 0.60062276 0.48920844 1.        ]]\n"
     ]
    }
   ],
   "source": [
    "from sklearn.feature_extraction.text import TfidfVectorizer\n",
    "from sklearn.metrics.pairwise import cosine_similarity\n",
    "\n",
    "tfidf = TfidfVectorizer()\n",
    "tfidf_matrix = tfidf.fit_transform(customer_profiles['ProductName'])\n",
    "\n",
    "similarity_matrix = cosine_similarity(tfidf_matrix)\n",
    "\n",
    "\n",
    "print(similarity_matrix[:5, :5])  \n"
   ]
  },
  {
   "cell_type": "code",
   "execution_count": 11,
   "id": "bbc2d31b",
   "metadata": {},
   "outputs": [
    {
     "name": "stdout",
     "output_type": "stream",
     "text": [
      "Customer C0001: [('C0197', 0.817), ('C0026', 0.737), ('C0100', 0.699)]\n",
      "Customer C0002: [('C0133', 0.884), ('C0173', 0.766), ('C0109', 0.66)]\n",
      "Customer C0003: [('C0164', 0.723), ('C0085', 0.658), ('C0181', 0.648)]\n",
      "Customer C0004: [('C0118', 0.74), ('C0008', 0.719), ('C0075', 0.709)]\n",
      "Customer C0005: [('C0128', 0.76), ('C0096', 0.746), ('C0014', 0.743)]\n",
      "Customer C0006: [('C0187', 0.756), ('C0191', 0.675), ('C0139', 0.63)]\n",
      "Customer C0007: [('C0181', 0.742), ('C0031', 0.686), ('C0118', 0.659)]\n",
      "Customer C0008: [('C0057', 0.852), ('C0143', 0.777), ('C0075', 0.725)]\n",
      "Customer C0009: [('C0093', 0.7), ('C0156', 0.699), ('C0062', 0.699)]\n",
      "Customer C0010: [('C0058', 0.763), ('C0092', 0.715), ('C0040', 0.69)]\n",
      "Customer C0011: [('C0084', 0.677), ('C0094', 0.644), ('C0091', 0.64)]\n",
      "Customer C0012: [('C0136', 0.814), ('C0076', 0.74), ('C0148', 0.692)]\n",
      "Customer C0013: [('C0040', 0.764), ('C0102', 0.723), ('C0153', 0.701)]\n",
      "Customer C0014: [('C0128', 0.959), ('C0005', 0.743), ('C0012', 0.657)]\n",
      "Customer C0015: [('C0060', 0.697), ('C0073', 0.66), ('C0103', 0.591)]\n",
      "Customer C0016: [('C0184', 0.821), ('C0192', 0.687), ('C0048', 0.683)]\n",
      "Customer C0017: [('C0164', 0.677), ('C0158', 0.628), ('C0104', 0.62)]\n",
      "Customer C0018: [('C0038', 0.755), ('C0161', 0.752), ('C0114', 0.752)]\n",
      "Customer C0019: [('C0070', 0.768), ('C0171', 0.75), ('C0191', 0.747)]\n",
      "Customer C0020: [('C0050', 0.779), ('C0045', 0.712), ('C0001', 0.67)]\n"
     ]
    }
   ],
   "source": [
    "lookalikes = {}\n",
    "\n",
    "for idx, customer_id in enumerate(customer_profiles['CustomerID'][:20]):\n",
    "    similar_customers = sorted(\n",
    "        list(enumerate(similarity_matrix[idx])),\n",
    "        key=lambda x: -x[1]\n",
    "    )[1:4]  # Exclude the customer itself\n",
    "    lookalikes[customer_id] = [\n",
    "        (customer_profiles['CustomerID'][i], round(score, 3))\n",
    "        for i, score in similar_customers\n",
    "    ]\n",
    "\n",
    "for cust_id, similar in lookalikes.items():\n",
    "    print(f\"Customer {cust_id}: {similar}\")\n"
   ]
  },
  {
   "cell_type": "code",
   "execution_count": 13,
   "id": "21b39f93",
   "metadata": {},
   "outputs": [],
   "source": [
    "import csv\n",
    "\n",
    "with open('Mannu_patel_Lookalike.csv', 'w', newline='') as f:\n",
    "    writer = csv.writer(f)\n",
    "    writer.writerow(['cust_id', 'lookalikes'])\n",
    "    for cust_id, similar in lookalikes.items():\n",
    "        writer.writerow([cust_id, similar])\n"
   ]
  },
  {
   "cell_type": "code",
   "execution_count": null,
   "id": "539f29dc",
   "metadata": {},
   "outputs": [],
   "source": []
  }
 ],
 "metadata": {
  "kernelspec": {
   "display_name": "Python 3 (ipykernel)",
   "language": "python",
   "name": "python3"
  },
  "language_info": {
   "codemirror_mode": {
    "name": "ipython",
    "version": 3
   },
   "file_extension": ".py",
   "mimetype": "text/x-python",
   "name": "python",
   "nbconvert_exporter": "python",
   "pygments_lexer": "ipython3",
   "version": "3.10.9"
  }
 },
 "nbformat": 4,
 "nbformat_minor": 5
}
